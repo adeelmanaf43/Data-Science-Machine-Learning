{
 "cells": [
  {
   "cell_type": "markdown",
   "metadata": {},
   "source": [
    "### Multi Threading and Multi Processing\n",
    "\n",
    "##### Program\n",
    "A program is a sequence of instructions written in programming languege eg. python, c++ Examples: Google Chrome, Word, Excel\n",
    "\n",
    "##### Process\n",
    "A process is simply an instance of a program that is being executed. It works along with the OS. The sources that are required to run the process are: Code Segment, Data Segment, Heap, Stack, Register.\n",
    "Every process when we run it, it will have seperate memory space. One process cannot corrupt another process. It requires some others I/O requirements. \n",
    "Increased execution time to swith between process.\n",
    "\n",
    "Example: Browser, Excel.\n",
    "\n",
    "\n",
    "##### Thread\n",
    "A thread is a unit of execution within a process.\n",
    "\n",
    "Single Threaded Process -> This thread has its own stack and register but its sharing the code segment, data segment and heap from process.\n",
    "\n",
    "Example: MS Paint (process) -> creating a rectangle (new thread is created), creating a circle (another thread is created)\n",
    "\n",
    "Multi Threaded Process -> Multipe threads (each thread will have its own stack and register)."
   ]
  },
  {
   "cell_type": "markdown",
   "metadata": {},
   "source": [
    "### Real World Use Case Of Multithreading Practical Implementation With Python"
   ]
  },
  {
   "cell_type": "code",
   "execution_count": 6,
   "metadata": {},
   "outputs": [
    {
     "name": "stdout",
     "output_type": "stream",
     "text": [
      "Fetched 9866 characters from https://python.langchain.com/docs/tutorials/\n",
      "Fetched 12152 characters from https://python.langchain.com/docs/introduction/\n",
      "Fetched 82353 characters from https://python.langchain.com/v0.2/docs/concepts\n",
      "All Pages Fetched\n"
     ]
    }
   ],
   "source": [
    "from bs4 import BeautifulSoup\n",
    "import requests\n",
    "import threading\n",
    "'''\n",
    "Real-World Example: Multithreading for I/O-bound Tasks\n",
    "Scenario: Web Scraping\n",
    "Wen scraping often involves making numerous network requests to fetch web pages.\n",
    "These tasks are I/O-bound because they spend a lot of time waiting for responses from \n",
    "servers. Multithreading can significantly improve the performance by allowing multiple web pages to be fetched concurrently.\n",
    "'''\n",
    "\n",
    "\n",
    "urls = [\n",
    "    'https://python.langchain.com/docs/introduction/',\n",
    "\n",
    "    'https://python.langchain.com/v0.2/docs/concepts',\n",
    "\n",
    "   'https://python.langchain.com/docs/tutorials/'\n",
    "]\n",
    "\n",
    "\n",
    "def fetch_content(url):\n",
    "    response = requests.get(url)\n",
    "    soup = BeautifulSoup(response.content, 'html.parser')\n",
    "    print(f'Fetched {len(soup.text)} characters from {url}')\n",
    "\n",
    "\n",
    "threads = []\n",
    "for url in urls:\n",
    "    thread = threading.Thread(target=fetch_content, args=(url,))\n",
    "    threads.append(thread)\n",
    "    thread.start()\n",
    "\n",
    "for thread in threads:\n",
    "    thread.join()\n",
    "print(\"All Pages Fetched\")"
   ]
  },
  {
   "cell_type": "markdown",
   "metadata": {},
   "source": [
    "### Real World Usecase Implementation with Multi Processing"
   ]
  },
  {
   "cell_type": "code",
   "execution_count": null,
   "metadata": {},
   "outputs": [],
   "source": [
    "'''\n",
    "Real-World Example: Multiprocessing for CPU-bound tasks\n",
    "Scenario: Factorial Calculation\n",
    "Factorial calculations, especially for large numbers,\n",
    "involves significant computation work. Multiprocessing can be \n",
    "used to distribute the workload across multiple CPU cores, improving\n",
    "performance.\n",
    "'''"
   ]
  },
  {
   "cell_type": "code",
   "execution_count": 9,
   "metadata": {},
   "outputs": [],
   "source": [
    "import multiprocessing\n",
    "import math\n",
    "import sys\n",
    "import time\n",
    "\n",
    "## Increase the maximum number of digits for integer conversion\n",
    "sys.set_int_max_str_digits(100000)\n",
    "\n",
    "## function to compute factorial of a given number\n",
    "\n",
    "def compute_factorial(number):\n",
    "    print(f\"Computeing factorial of: {number}\")\n",
    "    result = math.factorial(number)\n",
    "    print(f\"Factorial of {number} is {result}\")\n",
    "    return result\n",
    "\n",
    "if __name__ == \"__main__\":\n",
    "    numbers = [5000, 6000, 7000, 80000]\n",
    "    start_time = time.time()\n",
    "    with multiprocessing.Pool() as pool:\n",
    "        results = pool.map(compute_factorial, numbers)\n",
    "        end_time = time.time()\n",
    "    print(f\"Results: {results}\")\n",
    "    print(f\"Time taken: {end_time - start_time} seconds\")\n",
    "\n",
    "    "
   ]
  },
  {
   "cell_type": "markdown",
   "metadata": {},
   "source": []
  }
 ],
 "metadata": {
  "kernelspec": {
   "display_name": "base",
   "language": "python",
   "name": "python3"
  },
  "language_info": {
   "codemirror_mode": {
    "name": "ipython",
    "version": 3
   },
   "file_extension": ".py",
   "mimetype": "text/x-python",
   "name": "python",
   "nbconvert_exporter": "python",
   "pygments_lexer": "ipython3",
   "version": "3.12.3"
  }
 },
 "nbformat": 4,
 "nbformat_minor": 2
}

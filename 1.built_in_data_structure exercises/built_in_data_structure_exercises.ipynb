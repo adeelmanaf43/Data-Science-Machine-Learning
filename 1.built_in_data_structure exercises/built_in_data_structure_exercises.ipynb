{
 "cells": [
  {
   "cell_type": "markdown",
   "metadata": {},
   "source": [
    "### Built-in Data Structure Exercises"
   ]
  },
  {
   "cell_type": "markdown",
   "metadata": {},
   "source": [
    "##### Check if all elements in a list are unique or not"
   ]
  },
  {
   "cell_type": "code",
   "execution_count": 2,
   "metadata": {},
   "outputs": [
    {
     "name": "stdout",
     "output_type": "stream",
     "text": [
      "True\n",
      "False\n"
     ]
    }
   ],
   "source": [
    "lst1 = [1,2,3,4,5]\n",
    "lst2 = [1,2,3,4,5,5]\n",
    "def check_unique(lst):\n",
    "    for ele in lst:\n",
    "        if lst.count(ele) > 1:\n",
    "            return False\n",
    "    return True\n",
    "print(check_unique(lst1))\n",
    "print(check_unique(lst2))"
   ]
  },
  {
   "cell_type": "markdown",
   "metadata": {},
   "source": [
    "##### Reverse a list"
   ]
  },
  {
   "cell_type": "code",
   "execution_count": 4,
   "metadata": {},
   "outputs": [
    {
     "data": {
      "text/plain": [
       "[5, 4, 3, 2, 1]"
      ]
     },
     "execution_count": 4,
     "metadata": {},
     "output_type": "execute_result"
    }
   ],
   "source": [
    "def reverse_list(lst):\n",
    "    if len(lst) == 0:\n",
    "        return []\n",
    "    smallAns = reverse_list(lst[1:])\n",
    "    return smallAns + [lst[0]]\n",
    "reverse_list([1,2,3,4,5])"
   ]
  },
  {
   "cell_type": "markdown",
   "metadata": {},
   "source": [
    "##### Count Even and Odd Elements in List"
   ]
  },
  {
   "cell_type": "code",
   "execution_count": 5,
   "metadata": {},
   "outputs": [
    {
     "data": {
      "text/plain": [
       "(3, 4)"
      ]
     },
     "execution_count": 5,
     "metadata": {},
     "output_type": "execute_result"
    }
   ],
   "source": [
    "def count_even_odd(lst):\n",
    "    count_even = count_odd = 0\n",
    "    for ele in lst:\n",
    "        if ele % 2 == 0:\n",
    "            count_even += 1\n",
    "        else:\n",
    "            count_odd +=1\n",
    "    return count_even, count_odd\n",
    "count_even_odd([1,2,3,4,5,6,7])"
   ]
  },
  {
   "cell_type": "markdown",
   "metadata": {},
   "source": [
    "##### Check if First List is subset of Second List"
   ]
  },
  {
   "cell_type": "code",
   "execution_count": null,
   "metadata": {},
   "outputs": [],
   "source": [
    "def is_subset(lst1, lst2):\n",
    "    for ele in lst1:\n",
    "        if ele not in lst2:\n",
    "            return False\n",
    "    return True"
   ]
  },
  {
   "cell_type": "markdown",
   "metadata": {},
   "source": [
    "##### Maximum Consecutive Difference between Two Elements of List"
   ]
  },
  {
   "cell_type": "code",
   "execution_count": 6,
   "metadata": {},
   "outputs": [
    {
     "data": {
      "text/plain": [
       "7"
      ]
     },
     "execution_count": 6,
     "metadata": {},
     "output_type": "execute_result"
    }
   ],
   "source": [
    "def max_consecutive_difference(lst):\n",
    "    if len(lst) <= 1:\n",
    "        return 0\n",
    "    max_diff = abs(lst[0] - lst[1])\n",
    "    for i in range(1, len(lst)- 1):\n",
    "        new_diff = abs(lst[i] - lst[i+1])\n",
    "        if new_diff > max_diff:\n",
    "            max_diff = new_diff\n",
    "    return max_diff\n",
    "max_consecutive_difference([1,7,3,10,5])"
   ]
  },
  {
   "cell_type": "markdown",
   "metadata": {},
   "source": [
    "#### Merge Two Sorted Lists"
   ]
  },
  {
   "cell_type": "code",
   "execution_count": null,
   "metadata": {},
   "outputs": [],
   "source": [
    "def merge_two_sorted_lists(list1, list2):\n",
    "    i = j = 0\n",
    "    new_list = []\n",
    "    while i < len(list1) and j < len(list2):\n",
    "        if list1[i] < list2[j]:\n",
    "            new_list.append(list1[i])\n",
    "            i+=1\n",
    "        else:\n",
    "            new_list.append(list2[j])\n",
    "            j+=1\n",
    "    while i < len(list1):\n",
    "        new_list.append(list1[i])\n",
    "        i += 1\n",
    "    while j < len(list2):\n",
    "        new_list.append(list2[j])\n",
    "        j+=1\n",
    "    return new_list"
   ]
  },
  {
   "cell_type": "markdown",
   "metadata": {},
   "source": [
    "##### Rotate a List"
   ]
  },
  {
   "cell_type": "code",
   "execution_count": null,
   "metadata": {},
   "outputs": [],
   "source": [
    "# 1-->2-->3-->4-->5\n",
    "# 4-->5-->1-->2-->3\n",
    "\n",
    "#k  = 4\n",
    "#a[0] = a[3]\n",
    "#a[1] = a[4]\n",
    "#a[2] = a[0]\n",
    "#a[3] = a[1]\n",
    "#a[4] = a[2]"
   ]
  },
  {
   "cell_type": "code",
   "execution_count": 19,
   "metadata": {},
   "outputs": [
    {
     "data": {
      "text/plain": [
       "[3, 4, 5, 1, 2]"
      ]
     },
     "execution_count": 19,
     "metadata": {},
     "output_type": "execute_result"
    }
   ],
   "source": [
    "lst = [1,2,3,4,5]\n",
    "def rotate_list(lst, k):\n",
    "    for i in range(k):\n",
    "        last_element = lst.pop()\n",
    "        lst.insert(0, last_element)\n",
    "    return lst\n",
    "rotate_list(lst, 3)"
   ]
  },
  {
   "cell_type": "markdown",
   "metadata": {},
   "source": [
    "### Merge Lists to Dictionary"
   ]
  },
  {
   "cell_type": "code",
   "execution_count": null,
   "metadata": {},
   "outputs": [],
   "source": [
    "def merge_lists_to_dictionary(keys, values):\n",
    "    # Your code goes here\n",
    "    dic = {}\n",
    "    for i in range(len(keys)):\n",
    "        dic[keys[i]] = values[i]\n",
    "    return dic\n"
   ]
  },
  {
   "cell_type": "markdown",
   "metadata": {},
   "source": [
    "##### Merge Three Dictionaries"
   ]
  },
  {
   "cell_type": "code",
   "execution_count": 20,
   "metadata": {},
   "outputs": [],
   "source": [
    "def merge_three_dictionaries(dict1, dict2, dict3):\n",
    "    # Your code goes here\n",
    "    for key in dict2:\n",
    "        dict1[key] = dict2[key]\n",
    "    for key in dict3:\n",
    "        dict1[key] = dict3[key]\n",
    "    return dict1"
   ]
  },
  {
   "cell_type": "markdown",
   "metadata": {},
   "source": [
    "##### Count Frequency of Words in Sentence"
   ]
  },
  {
   "cell_type": "code",
   "execution_count": 21,
   "metadata": {},
   "outputs": [
    {
     "data": {
      "text/plain": [
       "{'the': 2,\n",
       " 'quick': 1,\n",
       " 'brown': 1,\n",
       " 'fox': 1,\n",
       " 'jumps': 1,\n",
       " 'over': 1,\n",
       " 'lazy': 1,\n",
       " 'dog': 1}"
      ]
     },
     "execution_count": 21,
     "metadata": {},
     "output_type": "execute_result"
    }
   ],
   "source": [
    "def count_word_frequency(sentence):\n",
    "    # Your code goes here\n",
    "    words_list = sentence.split()\n",
    "    freq = {}\n",
    "    for word in words_list:\n",
    "        if word not in freq:\n",
    "            freq[word] = 1\n",
    "        else:\n",
    "            freq[word] +=1\n",
    "    return freq\n",
    "\n",
    "count_word_frequency(\"the quick brown fox jumps over the lazy dog\")"
   ]
  },
  {
   "cell_type": "markdown",
   "metadata": {},
   "source": [
    "##### Check if a tuple is palindromic"
   ]
  },
  {
   "cell_type": "code",
   "execution_count": 22,
   "metadata": {},
   "outputs": [
    {
     "data": {
      "text/plain": [
       "True"
      ]
     },
     "execution_count": 22,
     "metadata": {},
     "output_type": "execute_result"
    }
   ],
   "source": [
    "t = ('a', 'b', 'c', 'b', 'a')\n",
    "def is_palindromic_tuple(tup):\n",
    "    left = 0\n",
    "    right  = len(t) - 1\n",
    "    while left != right:\n",
    "        if tup[left] != tup[right]:\n",
    "            return False\n",
    "        left += 1\n",
    "        right -= 1\n",
    "    return True\n",
    "is_palindromic_tuple(t)"
   ]
  },
  {
   "cell_type": "markdown",
   "metadata": {},
   "source": [
    "##### Merge Dictionaries with Overlapping Keys"
   ]
  },
  {
   "cell_type": "code",
   "execution_count": 23,
   "metadata": {},
   "outputs": [
    {
     "data": {
      "text/plain": [
       "{'a': 1, 'b': 5, 'c': 9, 'd': 6}"
      ]
     },
     "execution_count": 23,
     "metadata": {},
     "output_type": "execute_result"
    }
   ],
   "source": [
    "def merge_dicts_with_overlapping_keys(dicts):\n",
    "    final_dic = {}\n",
    "    for dic in dicts:\n",
    "        for key in dic:\n",
    "            if key not in final_dic:\n",
    "                final_dic[key] = dic[key]\n",
    "            else:\n",
    "                final_dic[key] += dic[key]\n",
    "    return final_dic\n",
    "merge_dicts_with_overlapping_keys([{'a': 1, 'b': 2}, {'b': 3, 'c': 4}, {'c': 5, 'd': 6}])"
   ]
  },
  {
   "cell_type": "markdown",
   "metadata": {},
   "source": []
  },
  {
   "cell_type": "markdown",
   "metadata": {},
   "source": []
  }
 ],
 "metadata": {
  "kernelspec": {
   "display_name": "base",
   "language": "python",
   "name": "python3"
  },
  "language_info": {
   "codemirror_mode": {
    "name": "ipython",
    "version": 3
   },
   "file_extension": ".py",
   "mimetype": "text/x-python",
   "name": "python",
   "nbconvert_exporter": "python",
   "pygments_lexer": "ipython3",
   "version": "3.12.3"
  }
 },
 "nbformat": 4,
 "nbformat_minor": 2
}

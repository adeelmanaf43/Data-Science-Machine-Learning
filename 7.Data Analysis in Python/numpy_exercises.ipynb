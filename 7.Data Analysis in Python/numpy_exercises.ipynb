{
 "cells": [
  {
   "cell_type": "markdown",
   "metadata": {},
   "source": [
    "# Module: NumPy Assignments\n",
    "## Lesson: NumPy\n",
    "### Assignment 1: Array Creation and Manipulation\n",
    "\n",
    "1. Create a NumPy array of shape (5, 5) filled with random integers between 1 and 20. Replace all the elements in the third column with 1.\n",
    "2. Create a NumPy array of shape (4, 4) with values from 1 to 16. Replace the diagonal elements with 0.\n"
   ]
  },
  {
   "cell_type": "code",
   "execution_count": 7,
   "metadata": {},
   "outputs": [
    {
     "name": "stdout",
     "output_type": "stream",
     "text": [
      "[[11 12  1 20 14]\n",
      " [17 17 19 15  2]\n",
      " [ 1 16 20 17 11]\n",
      " [16 13 20  3  1]\n",
      " [13  5 12 17  5]]\n",
      "[[11 12  1 20 14]\n",
      " [17 17  1 15  2]\n",
      " [ 1 16  1 17 11]\n",
      " [16 13  1  3  1]\n",
      " [13  5  1 17  5]]\n"
     ]
    }
   ],
   "source": [
    "#1\n",
    "import numpy as np\n",
    "arr = np.random.randint(1, 21, size = (5, 5))\n",
    "print(arr)\n",
    "arr[:,2] = 1\n",
    "print(arr)"
   ]
  },
  {
   "cell_type": "code",
   "execution_count": 13,
   "metadata": {},
   "outputs": [
    {
     "name": "stdout",
     "output_type": "stream",
     "text": [
      "Original Array\n",
      "[[ 1  2  3  4]\n",
      " [ 5  6  7  8]\n",
      " [ 9 10 11 12]\n",
      " [13 14 15 16]]\n",
      "Modified Array\n",
      "[[ 0  2  3  4]\n",
      " [ 5  0  7  8]\n",
      " [ 9 10  0 12]\n",
      " [13 14 15  0]]\n"
     ]
    }
   ],
   "source": [
    "#2\n",
    "arr = np.arange(1, 17).reshape(4, 4)\n",
    "print(\"Original Array\")\n",
    "print(arr)\n",
    "print(\"Modified Array\")\n",
    "np.fill_diagonal(arr, 0)\n",
    "print(arr)\n"
   ]
  },
  {
   "cell_type": "markdown",
   "metadata": {},
   "source": [
    "### Assignment 2: Array Indexing and Slicing\n",
    "\n",
    "1. Create a NumPy array of shape (6, 6) with values from 1 to 36. Extract the sub-array consisting of the 3rd to 5th rows and 2nd to 4th columns.\n",
    "2. Create a NumPy array of shape (5, 5) with random integers. Extract the elements on the border.\n"
   ]
  },
  {
   "cell_type": "code",
   "execution_count": 19,
   "metadata": {},
   "outputs": [
    {
     "name": "stdout",
     "output_type": "stream",
     "text": [
      "Original Array:\n",
      " [[ 1  2  3  4  5  6]\n",
      " [ 7  8  9 10 11 12]\n",
      " [13 14 15 16 17 18]\n",
      " [19 20 21 22 23 24]\n",
      " [25 26 27 28 29 30]\n",
      " [31 32 33 34 35 36]]\n",
      "Sub Array:\n",
      " [[20 21 22]\n",
      " [26 27 28]\n",
      " [32 33 34]]\n"
     ]
    }
   ],
   "source": [
    "arr = np.arange(1, 37).reshape(6,6)\n",
    "print('Original Array:\\n', arr)\n",
    "sub_arr = arr[3:6, 1:4]\n",
    "print(\"Sub Array:\\n\", sub_arr)"
   ]
  },
  {
   "cell_type": "code",
   "execution_count": null,
   "metadata": {},
   "outputs": [],
   "source": [
    "# Extract the elements on the border\n",
    "border_elements = np.concatenate((array[0, :], array[-1, :], array[1:-1, 0], array[1:-1, -1]))\n",
    "print(\"Border elements:\")\n",
    "print(border_elements)"
   ]
  },
  {
   "cell_type": "code",
   "execution_count": 24,
   "metadata": {},
   "outputs": [
    {
     "name": "stdout",
     "output_type": "stream",
     "text": [
      "Original Array:\n",
      " [[0.71247307 0.35946098 0.85142153 0.21117999 0.74064899]\n",
      " [0.69524678 0.28652338 0.886666   0.62095892 0.28479108]\n",
      " [0.85454524 0.45461918 0.19915237 0.58443353 0.10816653]\n",
      " [0.83785465 0.86912659 0.52224396 0.85225702 0.29303183]\n",
      " [0.67159016 0.40260661 0.52757337 0.47296527 0.30113298]]\n"
     ]
    },
    {
     "data": {
      "text/plain": [
       "array([0.71247307, 0.35946098, 0.85142153, 0.21117999, 0.74064899,\n",
       "       0.67159016, 0.40260661, 0.52757337, 0.47296527, 0.30113298,\n",
       "       0.69524678, 0.85454524, 0.83785465, 0.28479108, 0.10816653,\n",
       "       0.29303183])"
      ]
     },
     "execution_count": 24,
     "metadata": {},
     "output_type": "execute_result"
    }
   ],
   "source": [
    "a = np.random.random(size = (5,5))\n",
    "print(\"Original Array:\\n\", a)\n",
    "np.concatenate((a[0,:], a[-1,:], a[1:-1,0], a[1:-1, -1]))"
   ]
  },
  {
   "cell_type": "markdown",
   "metadata": {},
   "source": [
    "### Assignment 3: Array Operations\n",
    "\n",
    "##### 1. Create two NumPy arrays of shape (3, 4) filled with random integers. Perform element-wise addition, subtraction, multiplication, and division.\n",
    "\n"
   ]
  },
  {
   "cell_type": "code",
   "execution_count": 28,
   "metadata": {},
   "outputs": [
    {
     "name": "stdout",
     "output_type": "stream",
     "text": [
      "Addition: [[1.16755065 1.38683824 0.56021676 1.55992925]\n",
      " [0.73905937 1.23604376 0.7607068  1.21979136]\n",
      " [1.13715019 0.92055511 0.84249599 1.46707578]]\n",
      "Subtraction: [[-0.29233133 -0.56891032  0.47546859  0.18496167]\n",
      " [-0.71851807  0.00517751  0.0483978   0.72042121]\n",
      " [-0.34359392  0.58644572  0.50970768  0.32996161]]\n",
      "Multiplication: [[0.31942923 0.39991534 0.02194311 0.59979211]\n",
      " [0.00748513 0.38194434 0.14408312 0.24222106]\n",
      " [0.29376345 0.12587578 0.11249939 0.51085917]]\n",
      "Division: [[ 0.59951375  0.41821732 12.22074012  1.26904151]\n",
      " [ 0.01409276  1.00841278  1.13588991  3.88531942]\n",
      " [ 0.53591722  4.51050138  4.06325471  1.58034913]]\n"
     ]
    }
   ],
   "source": [
    "arr1 = np.random.random(size = (3, 4))\n",
    "arr2 = np.random.random(size = (3, 4))\n",
    "print(\"Addition:\", arr1 + arr2)\n",
    "print(\"Subtraction:\", arr1 - arr2)\n",
    "print(\"Multiplication:\", arr1 * arr2)\n",
    "print(\"Division:\", arr1/arr2)"
   ]
  },
  {
   "cell_type": "markdown",
   "metadata": {},
   "source": [
    "##### 2. Create a NumPy array of shape (4, 4) with values from 1 to 16. Compute the row-wise and column-wise sum."
   ]
  },
  {
   "cell_type": "code",
   "execution_count": 35,
   "metadata": {},
   "outputs": [
    {
     "name": "stdout",
     "output_type": "stream",
     "text": [
      "Original Array:\n",
      " [[ 1  2  3  4]\n",
      " [ 5  6  7  8]\n",
      " [ 9 10 11 12]\n",
      " [13 14 15 16]]\n",
      "\n",
      "Row Wise sum:\n",
      " [10 26 42 58]\n",
      "\n",
      " Column Wise sum:\n",
      " [28 32 36 40]\n"
     ]
    }
   ],
   "source": [
    "arr = np.arange(1, 17).reshape(4, 4)\n",
    "row_wise_sum = np.sum(arr, axis = 1)\n",
    "col_wise_sum = np.sum(arr, axis = 0)\n",
    "print(\"Original Array:\\n\", arr)\n",
    "print(\"\\nRow Wise sum:\\n\", row_wise_sum)\n",
    "print(\"\\n Column Wise sum:\\n\", col_wise_sum)\n"
   ]
  },
  {
   "cell_type": "markdown",
   "metadata": {},
   "source": [
    "### Assignment 4: Statistical Operations\n",
    "\n",
    "##### 1. Create a NumPy array of shape (5, 5) filled with random integers. Compute the mean, median, standard deviation, and variance of the array.\n"
   ]
  },
  {
   "cell_type": "code",
   "execution_count": 45,
   "metadata": {},
   "outputs": [
    {
     "name": "stdout",
     "output_type": "stream",
     "text": [
      "Mean: 0.4286\n",
      "Median: 0.4375\n",
      "Standard Deviation: 0.2099\n",
      "Variance: 0.0441\n"
     ]
    }
   ],
   "source": [
    "#arr = np.random.random(size = (5,5))\n",
    "mean = np.mean(arr)\n",
    "median = np.median(arr)\n",
    "std_dev = np.std(arr)\n",
    "var = np.var(arr)\n",
    "print(f\"Mean: {mean:.4f}\")\n",
    "print(f\"Median: {median:.4f}\")\n",
    "print(f\"Standard Deviation: {std_dev:.4f}\")\n",
    "print(f\"Variance: {var:.4f}\")"
   ]
  },
  {
   "cell_type": "markdown",
   "metadata": {},
   "source": [
    "##### 2. Create a NumPy array of shape (3, 3) with values from 1 to 9. Normalize the array (i.e., scale the values to have a mean of 0 and a standard deviation of 1)."
   ]
  },
  {
   "cell_type": "code",
   "execution_count": 46,
   "metadata": {},
   "outputs": [
    {
     "name": "stdout",
     "output_type": "stream",
     "text": [
      "Original Array:\n",
      " [[1 2 3]\n",
      " [4 5 6]\n",
      " [7 8 9]]\n",
      "Normalized Array:\n",
      " [[-1.54919334 -1.161895   -0.77459667]\n",
      " [-0.38729833  0.          0.38729833]\n",
      " [ 0.77459667  1.161895    1.54919334]]\n"
     ]
    }
   ],
   "source": [
    "arr = np.arange(1,10).reshape(3,3)\n",
    "mean = np.mean(arr)\n",
    "std_dev = np.std(arr)\n",
    "norm_arr = (arr - mean) / std_dev\n",
    "print(\"Original Array:\\n\", arr)\n",
    "print(\"Normalized Array:\\n\", norm_arr)"
   ]
  },
  {
   "cell_type": "markdown",
   "metadata": {},
   "source": [
    "### Assignment 5: Broadcasting\n",
    "\n",
    "1. Create a NumPy array of shape (3, 3) filled with random integers. Add a 1D array of shape (3,) to each row of the 2D array using broadcasting.\n"
   ]
  },
  {
   "cell_type": "code",
   "execution_count": 48,
   "metadata": {},
   "outputs": [
    {
     "data": {
      "text/plain": [
       "array([0.91986068, 0.61610156, 0.73894086])"
      ]
     },
     "execution_count": 48,
     "metadata": {},
     "output_type": "execute_result"
    }
   ],
   "source": [
    "np.random.random(3)"
   ]
  },
  {
   "cell_type": "code",
   "execution_count": 52,
   "metadata": {},
   "outputs": [
    {
     "name": "stdout",
     "output_type": "stream",
     "text": [
      "Original Array:\n",
      " [[0.8957944  0.91578979 0.73378607]\n",
      " [0.31330423 0.13946074 0.34300231]\n",
      " [0.6247312  0.81997992 0.70038478]] \n",
      "\n",
      "1D array:\n",
      " [0.28431399 0.10649958 0.12071383] \n",
      "\n",
      "Broadcast Array:\n",
      " [[1.1801084  1.02228937 0.8544999 ]\n",
      " [0.59761822 0.24596032 0.46371614]\n",
      " [0.90904519 0.9264795  0.82109861]]\n"
     ]
    }
   ],
   "source": [
    "arr = np.random.random(size = (3,3))\n",
    "print(\"Original Array:\\n\", arr,\"\\n\")\n",
    "arr1 = np.random.random(3)\n",
    "print(\"1D array:\\n\", arr1, \"\\n\")\n",
    "broadcast_arr = arr + arr1\n",
    "print(\"Broadcast Array:\\n\", broadcast_arr)"
   ]
  },
  {
   "cell_type": "markdown",
   "metadata": {},
   "source": [
    "2. Create a NumPy array of shape (4, 4) filled with random integers. Subtract a 1D array of shape (4,) from each column of the 2D array using broadcasting."
   ]
  },
  {
   "cell_type": "code",
   "execution_count": 54,
   "metadata": {},
   "outputs": [
    {
     "name": "stdout",
     "output_type": "stream",
     "text": [
      "Original Array:\n",
      " [[0.94815307 0.48784045 0.4383918  0.53361502]\n",
      " [0.40680259 0.51476583 0.43269924 0.43070162]\n",
      " [0.57185762 0.61625811 0.43494064 0.51992761]\n",
      " [0.00386951 0.54017354 0.3386365  0.26855029]] \n",
      "\n",
      "1D Array:\n",
      " [0.63012476 0.92214118 0.92179674 0.79783653] \n",
      "\n",
      "Broadcast Array:\n",
      " [[ 0.31802832 -0.43430074 -0.48340494 -0.26422151]\n",
      " [-0.22332217 -0.40737535 -0.4890975  -0.36713492]\n",
      " [-0.05826714 -0.30588307 -0.4868561  -0.27790893]\n",
      " [-0.62625525 -0.38196764 -0.58316024 -0.52928624]]\n"
     ]
    }
   ],
   "source": [
    "import numpy as np\n",
    "arr = np.random.random(size=(4, 4))\n",
    "print(\"Original Array:\\n\", arr, \"\\n\")\n",
    "arr1 = np.random.random(4)\n",
    "print(\"1D Array:\\n\", arr1, \"\\n\")\n",
    "broadcast_arr = arr - arr1\n",
    "print(\"Broadcast Array:\\n\", broadcast_arr)"
   ]
  },
  {
   "cell_type": "markdown",
   "metadata": {},
   "source": [
    "### Assignment 6: Linear Algebra\n",
    "\n",
    "1. Create a NumPy array of shape (3, 3) representing a matrix. Compute its determinant, inverse, and eigenvalues."
   ]
  },
  {
   "cell_type": "code",
   "execution_count": 56,
   "metadata": {},
   "outputs": [
    {
     "name": "stdout",
     "output_type": "stream",
     "text": [
      "Determinanat: -9.51619735392994e-16\n",
      "Inverse:\n",
      " [[ 3.15251974e+15 -6.30503948e+15  3.15251974e+15]\n",
      " [-6.30503948e+15  1.26100790e+16 -6.30503948e+15]\n",
      " [ 3.15251974e+15 -6.30503948e+15  3.15251974e+15]]\n",
      "Eigen Values:\n",
      " [ 1.61168440e+01 -1.11684397e+00 -3.38433605e-16]\n"
     ]
    }
   ],
   "source": [
    "arr = np.arange(1, 10).reshape(3, 3)\n",
    "det = np.linalg.det(arr)\n",
    "inv = np.linalg.inv(arr)\n",
    "ev = np.linalg.eigvals(arr)\n",
    "print(\"Determinanat:\", det)\n",
    "print(\"Inverse:\\n\", inv)\n",
    "print(\"Eigen Values:\\n\", ev)"
   ]
  },
  {
   "cell_type": "markdown",
   "metadata": {},
   "source": [
    "2. Create two NumPy arrays of shape (2, 3) and (3, 2). Perform matrix multiplication on these arrays.\n"
   ]
  },
  {
   "cell_type": "code",
   "execution_count": 65,
   "metadata": {},
   "outputs": [
    {
     "name": "stdout",
     "output_type": "stream",
     "text": [
      "Original Array1:\n",
      " [[1 2 3]\n",
      " [4 5 6]] \n",
      "\n",
      "Original Array2:\n",
      " [[ 8  9]\n",
      " [10 11]\n",
      " [12 13]]\n",
      "Array Multiplication:\n",
      " [[ 64  70]\n",
      " [154 169]]\n"
     ]
    }
   ],
   "source": [
    "arr1 = np.arange(1, 7).reshape(2, 3)\n",
    "arr2 = np.arange(8, 14).reshape(3, 2)\n",
    "print(\"Original Array1:\\n\",arr1, \"\\n\")\n",
    "print(\"Original Array2:\\n\", arr2)\n",
    "print(\"Array Multiplication:\\n\", np.matmul(arr1, arr2))"
   ]
  },
  {
   "cell_type": "markdown",
   "metadata": {},
   "source": [
    "### Assignment 7: Advanced Array Manipulation\n",
    "\n",
    "1. Create a NumPy array of shape (3, 3) with values from 1 to 9. Reshape the array to shape (1, 9) and then to shape (9, 1).\n"
   ]
  },
  {
   "cell_type": "code",
   "execution_count": 58,
   "metadata": {},
   "outputs": [
    {
     "name": "stdout",
     "output_type": "stream",
     "text": [
      "Original Array:\n",
      " [[1 2 3]\n",
      " [4 5 6]\n",
      " [7 8 9]]\n",
      "Array (1,9): [[1 2 3 4 5 6 7 8 9]] \n",
      "\n",
      "Array (9, 1): [[1]\n",
      " [2]\n",
      " [3]\n",
      " [4]\n",
      " [5]\n",
      " [6]\n",
      " [7]\n",
      " [8]\n",
      " [9]]\n"
     ]
    }
   ],
   "source": [
    "arr = np.arange(1,10).reshape(3, 3)\n",
    "arr1 = arr.reshape(1, 9)\n",
    "arr2 = arr.reshape(9, 1)\n",
    "print(\"Original Array:\\n\", arr)\n",
    "print(\"Array (1,9):\", arr1, \"\\n\")\n",
    "print(\"Array (9, 1):\", arr2)"
   ]
  },
  {
   "cell_type": "markdown",
   "metadata": {},
   "source": [
    "2. Create a NumPy array of shape (5, 5) filled with random integers. Flatten the array and then reshape it back to (5, 5).\n"
   ]
  },
  {
   "cell_type": "code",
   "execution_count": 68,
   "metadata": {},
   "outputs": [
    {
     "name": "stdout",
     "output_type": "stream",
     "text": [
      "Original Array:\n",
      " [[0.425551   0.61046716 0.82499617 0.65918648 0.69188642]\n",
      " [0.0130144  0.21366642 0.86276    0.78076982 0.43726113]\n",
      " [0.4606493  0.25407978 0.04666706 0.59268692 0.41396552]\n",
      " [0.94220719 0.93168059 0.20763569 0.11653225 0.9375188 ]\n",
      " [0.78460473 0.8295016  0.85663414 0.09339646 0.24204544]] \n",
      "\n",
      "Flatten Array:\n",
      " [0.425551   0.61046716 0.82499617 0.65918648 0.69188642 0.0130144\n",
      " 0.21366642 0.86276    0.78076982 0.43726113 0.4606493  0.25407978\n",
      " 0.04666706 0.59268692 0.41396552 0.94220719 0.93168059 0.20763569\n",
      " 0.11653225 0.9375188  0.78460473 0.8295016  0.85663414 0.09339646\n",
      " 0.24204544]\n",
      "Reshaped Array:\n",
      " [[0.425551   0.61046716 0.82499617 0.65918648 0.69188642]\n",
      " [0.0130144  0.21366642 0.86276    0.78076982 0.43726113]\n",
      " [0.4606493  0.25407978 0.04666706 0.59268692 0.41396552]\n",
      " [0.94220719 0.93168059 0.20763569 0.11653225 0.9375188 ]\n",
      " [0.78460473 0.8295016  0.85663414 0.09339646 0.24204544]]\n"
     ]
    }
   ],
   "source": [
    "arr = np.random.random(size = (5, 5))\n",
    "print(\"Original Array:\\n\", arr, \"\\n\")\n",
    "flatten_arr = arr.flatten()\n",
    "print(\"Flatten Array:\\n\", flatten_arr)\n",
    "reshaped_arr = arr.reshape(5, 5)\n",
    "print(\"Reshaped Array:\\n\", reshaped_arr)"
   ]
  },
  {
   "cell_type": "markdown",
   "metadata": {},
   "source": [
    "### Assignment 8: Fancy Indexing and Boolean Indexing\n",
    "\n",
    "1. Create a NumPy array of shape (5, 5) filled with random integers. Use fancy indexing to extract the elements at the corners of the array.\n"
   ]
  },
  {
   "cell_type": "code",
   "execution_count": 71,
   "metadata": {},
   "outputs": [
    {
     "name": "stdout",
     "output_type": "stream",
     "text": [
      "Original Array:\n",
      " [[0.01040067 0.45156412 0.36370761 0.05834776 0.87917158]\n",
      " [0.75221597 0.12564877 0.20075088 0.59879498 0.3263249 ]\n",
      " [0.28374191 0.99877537 0.16647166 0.22629939 0.17609164]\n",
      " [0.81342598 0.66106937 0.26766892 0.49528942 0.61029768]\n",
      " [0.8252026  0.6664278  0.92445786 0.7438217  0.0664552 ]] \n",
      "\n",
      "Corners of Array:\n",
      " [0.01040067 0.87917158 0.8252026  0.0664552 ]\n"
     ]
    }
   ],
   "source": [
    "arr = np.random.random(size = (5, 5))\n",
    "print(\"Original Array:\\n\", arr, \"\\n\")\n",
    "corners = arr[[0, 0, -1, -1], [0, -1, 0, -1]]\n",
    "print(\"Corners of Array:\\n\", corners)"
   ]
  },
  {
   "cell_type": "markdown",
   "metadata": {},
   "source": [
    "2. Create a NumPy array of shape (4, 4) filled with random integers. Use boolean indexing to set all elements greater than 10 to 10.\n"
   ]
  },
  {
   "cell_type": "code",
   "execution_count": 76,
   "metadata": {},
   "outputs": [
    {
     "name": "stdout",
     "output_type": "stream",
     "text": [
      "Original Array:\n",
      " [[ 9 11 10  6]\n",
      " [11 15 14 14]\n",
      " [ 4  9  3  2]\n",
      " [ 4  6  8 17]] \n",
      "\n",
      "Modified Array:\n",
      " [[ 9 10 10  6]\n",
      " [10 10 10 10]\n",
      " [ 4  9  3  2]\n",
      " [ 4  6  8 10]]\n"
     ]
    }
   ],
   "source": [
    "arr = np.random.randint(1, 20, size = (4, 4))\n",
    "print(\"Original Array:\\n\", arr, \"\\n\")\n",
    "arr[arr>10] = 10\n",
    "print(\"Modified Array:\\n\", arr)\n"
   ]
  },
  {
   "cell_type": "markdown",
   "metadata": {},
   "source": [
    "### Assignment 9: Structured Arrays\n",
    "\n",
    "1. Create a structured array with fields 'name' (string), 'age' (integer), and 'weight' (float). Add some data and sort the array by age.\n"
   ]
  },
  {
   "cell_type": "code",
   "execution_count": 78,
   "metadata": {},
   "outputs": [
    {
     "name": "stdout",
     "output_type": "stream",
     "text": [
      "Original Array:\n",
      "[('Alice', 25, 55.5) ('Bob', 30, 85.5) ('Charlie', 20, 65.2)]\n",
      "Sorted_Array:\n",
      "[('Charlie', 20, 65.2) ('Alice', 25, 55.5) ('Bob', 30, 85.5)]\n"
     ]
    }
   ],
   "source": [
    "data_type = [('name', 'U10'), ('age', 'i4'), ('weight', 'f4')]\n",
    "data = np.array([('Alice', 25, 55.5), ('Bob', 30, 85.5), ('Charlie', 20, 65.2)], dtype = data_type)\n",
    "print(\"Original Array:\")\n",
    "print(data)\n",
    "sorted_data = np.sort(data, order = \"age\")\n",
    "print(\"Sorted_Array:\")\n",
    "print(sorted_data)"
   ]
  },
  {
   "cell_type": "markdown",
   "metadata": {},
   "source": [
    "2. Create a structured array with fields 'x' and 'y' (both integers). Add some data and compute the Euclidean distance between each pair of points."
   ]
  },
  {
   "cell_type": "code",
   "execution_count": 80,
   "metadata": {},
   "outputs": [
    {
     "name": "stdout",
     "output_type": "stream",
     "text": [
      "Original data:\n",
      "[(1, 2) (3, 4) (5, 6)]\n",
      "Euclidean distances:\n",
      "[[0.         2.82842712 5.65685425]\n",
      " [2.82842712 0.         2.82842712]\n",
      " [5.65685425 2.82842712 0.        ]]\n"
     ]
    }
   ],
   "source": [
    "data_type = [('x', 'i4'), ('y', 'i4')]\n",
    "data = np.array([(1,2), (3,4), (5, 6)], dtype=data_type)\n",
    "print(\"Original data:\")\n",
    "print(data)\n",
    "\n",
    "# Compute the Euclidean distance between each pair of points\n",
    "distances = np.sqrt((data['x'][:, np.newaxis] - data['x'])**2 + (data['y'][:, np.newaxis] - data['y'])**2)\n",
    "print(\"Euclidean distances:\")\n",
    "print(distances)"
   ]
  },
  {
   "cell_type": "markdown",
   "metadata": {},
   "source": [
    "### Assignment 10: Masked Arrays\n",
    "\n",
    "1. Create a masked array of shape (4, 4) with random integers and mask the elements greater than 10. Compute the sum of the unmasked elements."
   ]
  },
  {
   "cell_type": "code",
   "execution_count": 91,
   "metadata": {},
   "outputs": [
    {
     "name": "stdout",
     "output_type": "stream",
     "text": [
      "Original Array:\n",
      "[[ 6  4  7  6]\n",
      " [ 4 14  6  4]\n",
      " [18  3 12  3]\n",
      " [15  1  1 18]]\n",
      "Masked Array:\n",
      "[[6 4 7 6]\n",
      " [4 -- 6 4]\n",
      " [-- 3 -- 3]\n",
      " [-- 1 1 --]]\n",
      "Sum of unmasked elements:\n",
      "45\n"
     ]
    }
   ],
   "source": [
    "import numpy.ma as ma\n",
    "data = np.random.randint(1, 21, size = (4, 4))\n",
    "print(\"Original Array:\")\n",
    "print(data)\n",
    "masked_data = ma.masked_greater(data, 10)\n",
    "print(\"Masked Array:\")\n",
    "print(masked_data)\n",
    "\n",
    "### compute the sum of unmasked\n",
    "print(\"Sum of unmasked elements:\")\n",
    "print(masked_data.sum())"
   ]
  },
  {
   "cell_type": "markdown",
   "metadata": {},
   "source": [
    "2. Create a masked array of shape (3, 3) with random integers and mask the diagonal elements. Replace the masked elements with the mean of the unmasked elements."
   ]
  },
  {
   "cell_type": "code",
   "execution_count": 99,
   "metadata": {},
   "outputs": [
    {
     "name": "stdout",
     "output_type": "stream",
     "text": [
      "Original Array:\n",
      "[[0.18378308 0.09365802 0.04868147]\n",
      " [0.59728643 0.26907059 0.59644719]\n",
      " [0.85285704 0.08316957 0.60514448]]\n",
      "Masked Array:\n",
      "[[-- 0.09365802127369782 0.04868146724868494]\n",
      " [0.5972864322175766 -- 0.5964471937417926]\n",
      " [0.8528570391996336 0.08316956521410757 --]]\n",
      "Filled Array:\n",
      "[[0.37868329 0.09365802 0.04868147]\n",
      " [0.59728643 0.37868329 0.59644719]\n",
      " [0.85285704 0.08316957 0.37868329]]\n"
     ]
    }
   ],
   "source": [
    "arr = np.random.random((3,3))\n",
    "print(\"Original Array:\")\n",
    "print(arr)\n",
    "\n",
    "masked_arr = ma.masked_array(arr, mask=np.eye(3, dtype = bool))\n",
    "print(\"Masked Array:\")\n",
    "print(masked_arr)\n",
    "\n",
    "unmasked_mean = masked_arr.mean()\n",
    "masked_arr2 = masked_arr.filled(unmasked_mean)\n",
    "print(\"Filled Array:\")\n",
    "print(masked_arr2)"
   ]
  }
 ],
 "metadata": {
  "kernelspec": {
   "display_name": "base",
   "language": "python",
   "name": "python3"
  },
  "language_info": {
   "codemirror_mode": {
    "name": "ipython",
    "version": 3
   },
   "file_extension": ".py",
   "mimetype": "text/x-python",
   "name": "python",
   "nbconvert_exporter": "python",
   "pygments_lexer": "ipython3",
   "version": "3.12.3"
  }
 },
 "nbformat": 4,
 "nbformat_minor": 2
}

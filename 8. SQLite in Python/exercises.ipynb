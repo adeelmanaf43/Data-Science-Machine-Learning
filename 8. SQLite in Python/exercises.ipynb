{
 "cells": [
  {
   "cell_type": "markdown",
   "metadata": {},
   "source": [
    "# Module: SQLite3 Assignments\n",
    "## Lesson: SQLite3\n",
    "### Assignment 1: Creating and Connecting to a Database\n",
    "\n",
    "1. Write a Python function to create a new SQLite3 database named `test.db`.\n"
   ]
  },
  {
   "cell_type": "code",
   "execution_count": 6,
   "metadata": {},
   "outputs": [
    {
     "name": "stdout",
     "output_type": "stream",
     "text": [
      "Database 'test.db' created successfully.\n"
     ]
    }
   ],
   "source": [
    "import sqlite3\n",
    "def create_db():\n",
    "    conn =sqlite3.connect(\"test.db\")\n",
    "    conn.close()\n",
    "    print(\"Database 'test.db' created successfully.\")\n",
    "create_db()"
   ]
  },
  {
   "cell_type": "markdown",
   "metadata": {},
   "source": [
    "2. Write a Python function to create a table named `employees` with columns `id` (integer), `name` (text), `age` (integer), and `department` (text) in the `test.db` database.\n"
   ]
  },
  {
   "cell_type": "code",
   "execution_count": 7,
   "metadata": {},
   "outputs": [
    {
     "name": "stdout",
     "output_type": "stream",
     "text": [
      "Table 'employees' created successfully.\n"
     ]
    }
   ],
   "source": [
    "def create_employees_table():\n",
    "    conn = sqlite3.connect(\"test.db\")\n",
    "    cursor = conn.cursor()\n",
    "    cursor.execute('''\n",
    "    CREATE TABLE IF NOT EXISTS employees(\n",
    "    id INTEGER PRIMARY KEY,\n",
    "    name TEXT NOT NULL,\n",
    "    age INTEGER,\n",
    "    department TEXT\n",
    "    )\n",
    "    ''')\n",
    "    conn.commit()\n",
    "    conn.close()\n",
    "    print(\"Table 'employees' created successfully.\")\n",
    "create_employees_table()"
   ]
  },
  {
   "cell_type": "markdown",
   "metadata": {},
   "source": [
    "### Assignment 2: Inserting Data\n",
    "\n",
    "1. Write a Python function to insert a new employee into the `employees` table.\n"
   ]
  },
  {
   "cell_type": "code",
   "execution_count": 8,
   "metadata": {},
   "outputs": [
    {
     "name": "stdout",
     "output_type": "stream",
     "text": [
      "New Employee records inserted successfully.\n"
     ]
    }
   ],
   "source": [
    "def insert_employees():\n",
    "    conn = sqlite3.connect(\"test.db\")\n",
    "    cursor = conn.cursor()\n",
    "    cursor.execute('''\n",
    "    INSERT INTO employees(name, age, department)\n",
    "    VALUES('Adeel', 28, 'Sales')\n",
    "    ''')\n",
    "    conn.commit()\n",
    "    conn.close()\n",
    "    print(\"New Employee records inserted successfully.\")\n",
    "insert_employees()"
   ]
  },
  {
   "cell_type": "markdown",
   "metadata": {},
   "source": [
    "2. Insert at least 5 different employees into the `employees` table.\n"
   ]
  },
  {
   "cell_type": "code",
   "execution_count": 9,
   "metadata": {},
   "outputs": [
    {
     "name": "stdout",
     "output_type": "stream",
     "text": [
      "New multiple employees records inserted successfuly\n"
     ]
    }
   ],
   "source": [
    "new_employees = [\n",
    "    ('Ali', 30, 'Marketing' ),\n",
    "    ('Aqib', 25, 'Finance'),\n",
    "    ('Khalid', 35, 'Sales'),\n",
    "    ('Saqib', 33, 'Finance'),\n",
    "    ('Riaz', 27, 'Marketing')\n",
    "]\n",
    "def insert_multiple_employees(new_records):\n",
    "    conn = sqlite3.connect(\"test.db\")\n",
    "    cursor = conn.cursor()\n",
    "    cursor.executemany('''\n",
    "    INSERT INTO employees(name, age, department)\n",
    "    VALUES(?,?,?)\n",
    "    ''', new_records)\n",
    "    conn.commit()\n",
    "    conn.close()\n",
    "    print(\"New multiple employees records inserted successfuly\")\n",
    "insert_multiple_employees(new_employees)"
   ]
  },
  {
   "cell_type": "markdown",
   "metadata": {},
   "source": [
    "### Assignment 3: Querying Data\n",
    "\n",
    "1. Write a Python function to fetch and display all records from the `employees` table.\n"
   ]
  },
  {
   "cell_type": "code",
   "execution_count": 10,
   "metadata": {},
   "outputs": [
    {
     "name": "stdout",
     "output_type": "stream",
     "text": [
      "(1, 'Adeel', 28, 'Sales')\n",
      "(2, 'Ali', 30, 'Marketing')\n",
      "(3, 'Aqib', 25, 'Finance')\n",
      "(4, 'Khalid', 35, 'Sales')\n",
      "(5, 'Saqib', 33, 'Finance')\n",
      "(6, 'Riaz', 27, 'Marketing')\n"
     ]
    }
   ],
   "source": [
    "def fetch_all_records():\n",
    "    conn = sqlite3.connect(\"test.db\")\n",
    "    cursor = conn.cursor()\n",
    "    cursor.execute('''\n",
    "    SELECT * FROM employees;\n",
    "    ''')\n",
    "    rows = cursor.fetchall()\n",
    "    for row in rows:\n",
    "        print(row)\n",
    "    conn.close()\n",
    "fetch_all_records()"
   ]
  },
  {
   "cell_type": "markdown",
   "metadata": {},
   "source": [
    "2. Write a Python function to fetch and display all employees from a specific department.\n"
   ]
  },
  {
   "cell_type": "code",
   "execution_count": 12,
   "metadata": {},
   "outputs": [
    {
     "name": "stdout",
     "output_type": "stream",
     "text": [
      "(1, 'Adeel', 28, 'Sales')\n",
      "(4, 'Khalid', 35, 'Sales')\n"
     ]
    }
   ],
   "source": [
    "def fetch_employees_from_department(dep):\n",
    "    conn = sqlite3.connect(\"test.db\")\n",
    "    cursor = conn.cursor()\n",
    "    cursor.execute(f'''\n",
    "    SELECT * FROM employees where department = '{dep}'\n",
    "    ''')\n",
    "    rows = cursor.fetchall()\n",
    "    for row in rows:\n",
    "        print(row)\n",
    "    conn.close()\n",
    "fetch_employees_from_department('Sales')"
   ]
  },
  {
   "cell_type": "markdown",
   "metadata": {},
   "source": [
    "### Assignment 4: Updating Data\n",
    "\n",
    "1. Write a Python function to update the department of an employee based on their `id`.\n"
   ]
  },
  {
   "cell_type": "code",
   "execution_count": 15,
   "metadata": {},
   "outputs": [
    {
     "name": "stdout",
     "output_type": "stream",
     "text": [
      "Employee with id: 1 is updated successfully\n",
      "(1, 'Adeel', 28, 'Marketing')\n",
      "(2, 'Ali', 30, 'Marketing')\n",
      "(3, 'Aqib', 25, 'Finance')\n",
      "(4, 'Khalid', 35, 'Sales')\n",
      "(5, 'Saqib', 33, 'Finance')\n",
      "(6, 'Riaz', 27, 'Marketing')\n"
     ]
    }
   ],
   "source": [
    "def update_employee(id,new_dep):\n",
    "    conn = sqlite3.connect(\"test.db\")\n",
    "    cursor = conn.cursor()\n",
    "    cursor.execute(f'''\n",
    "    UPDATE employees\n",
    "    SET department = '{new_dep}'\n",
    "    WHERE id = {id}\n",
    "    ''')\n",
    "    print(f'Employee with id: {id} is updated successfully')\n",
    "    conn.commit()\n",
    "    conn.close()\n",
    "update_employee(1, 'Marketing')\n",
    "fetch_all_records()\n"
   ]
  },
  {
   "cell_type": "markdown",
   "metadata": {},
   "source": [
    "2. Update the department of at least 2 employees and display the updated records.\n"
   ]
  },
  {
   "cell_type": "code",
   "execution_count": 16,
   "metadata": {},
   "outputs": [
    {
     "name": "stdout",
     "output_type": "stream",
     "text": [
      "Employee with id: 2 is updated successfully\n",
      "Employee with id: 3 is updated successfully\n",
      "(1, 'Adeel', 28, 'Marketing')\n",
      "(2, 'Ali', 30, 'Sales')\n",
      "(3, 'Aqib', 25, 'Sales')\n",
      "(4, 'Khalid', 35, 'Sales')\n",
      "(5, 'Saqib', 33, 'Finance')\n",
      "(6, 'Riaz', 27, 'Marketing')\n"
     ]
    }
   ],
   "source": [
    "update_employee(2, 'Sales')\n",
    "update_employee(3, 'Sales')\n",
    "fetch_all_records()"
   ]
  },
  {
   "cell_type": "markdown",
   "metadata": {},
   "source": [
    "### Assignment 5: Deleting Data\n",
    "\n",
    "1. Write a Python function to delete an employee from the `employees` table based on their `id`."
   ]
  },
  {
   "cell_type": "code",
   "execution_count": 17,
   "metadata": {},
   "outputs": [
    {
     "name": "stdout",
     "output_type": "stream",
     "text": [
      "Employee with id: 6 deleted successfully\n"
     ]
    }
   ],
   "source": [
    "def delete_employee(emp_id):\n",
    "    conn = sqlite3.connect(\"test.db\")\n",
    "    cursor = conn.cursor()\n",
    "    cursor.execute(f'''\n",
    "    DELETE FROM employees\n",
    "    WHERE id = {emp_id}\n",
    "    ''')\n",
    "    print(\"Employee with id:\", emp_id, \"deleted successfully\")\n",
    "    conn.commit()\n",
    "    conn.close()\n",
    "delete_employee(6)"
   ]
  },
  {
   "cell_type": "markdown",
   "metadata": {},
   "source": [
    "2. Delete at least 1 employee and display the remaining records."
   ]
  },
  {
   "cell_type": "code",
   "execution_count": 19,
   "metadata": {},
   "outputs": [
    {
     "name": "stdout",
     "output_type": "stream",
     "text": [
      "Employee with id: 5 deleted successfully\n",
      "(1, 'Adeel', 28, 'Marketing')\n",
      "(2, 'Ali', 30, 'Sales')\n",
      "(3, 'Aqib', 25, 'Sales')\n",
      "(4, 'Khalid', 35, 'Sales')\n"
     ]
    }
   ],
   "source": [
    "delete_employee(5)\n",
    "fetch_all_records()"
   ]
  },
  {
   "cell_type": "markdown",
   "metadata": {},
   "source": [
    "### Assignment 6: Advanced Queries\n",
    "\n",
    "1. Write a Python function to fetch and display employees older than a certain age.\n"
   ]
  },
  {
   "cell_type": "code",
   "execution_count": 20,
   "metadata": {},
   "outputs": [
    {
     "name": "stdout",
     "output_type": "stream",
     "text": [
      "(2, 'Ali', 30, 'Sales')\n",
      "(4, 'Khalid', 35, 'Sales')\n"
     ]
    }
   ],
   "source": [
    "def fetch_employees_older_than_given_age(age):\n",
    "    conn = sqlite3.connect(\"test.db\")\n",
    "    cursor = conn.cursor()\n",
    "    cursor.execute(f'''\n",
    "    SELECT * FROM employees WHERE age > {age}\n",
    "    ''')\n",
    "    rows = cursor.fetchall()\n",
    "    for row in rows:\n",
    "        print(row)\n",
    "    conn.close()\n",
    "fetch_employees_older_than_given_age(29)"
   ]
  },
  {
   "cell_type": "markdown",
   "metadata": {},
   "source": [
    "2. Write a Python function to fetch and display employees whose names start with a specific letter.\n"
   ]
  },
  {
   "cell_type": "code",
   "execution_count": 21,
   "metadata": {},
   "outputs": [
    {
     "name": "stdout",
     "output_type": "stream",
     "text": [
      "(1, 'Adeel', 28, 'Marketing')\n",
      "(2, 'Ali', 30, 'Sales')\n",
      "(3, 'Aqib', 25, 'Sales')\n"
     ]
    }
   ],
   "source": [
    "def employees_with_specific_letter(letter):\n",
    "    conn = sqlite3.connect(\"test.db\")\n",
    "    cursor = conn.cursor()\n",
    "    cursor.execute(f'''\n",
    "    SELECT * FROM employees\n",
    "    WHERE name LIKE '{letter}%'\n",
    "    ''')\n",
    "    rows = cursor.fetchall()\n",
    "    for row in rows:\n",
    "        print(row)\n",
    "    conn.close()\n",
    "employees_with_specific_letter('A')"
   ]
  },
  {
   "cell_type": "markdown",
   "metadata": {},
   "source": [
    "### Assignment 7: Handling Transactions\n",
    "\n",
    "1. Write a Python function to insert multiple employees into the `employees` table in a single transaction. Ensure that if any insertion fails, none of the insertions are committed.\n",
    "\n"
   ]
  },
  {
   "cell_type": "code",
   "execution_count": 30,
   "metadata": {},
   "outputs": [
    {
     "name": "stdout",
     "output_type": "stream",
     "text": [
      "Error occured, Transaction is rolled back\n",
      "UNIQUE constraint failed: employees.id\n"
     ]
    }
   ],
   "source": [
    "def insert_multiple_employees_transactions(records):\n",
    "    conn = sqlite3.connect(\"test.db\")\n",
    "    cursor = conn.cursor()\n",
    "    try:\n",
    "        cursor.executemany(f'''\n",
    "        INSERT INTO employees(id, name, age, department)\n",
    "        VALUES(?,?,?,?)\n",
    "        ''', records)\n",
    "        conn.commit()\n",
    "        print(\"New Records added successfully\")\n",
    "    except Exception as e:\n",
    "        print(\"Error occured, Transaction is rolled back\")\n",
    "        conn.rollback()\n",
    "        print(e)\n",
    "    finally:\n",
    "        conn.close()\n",
    "employees = [\n",
    "    (5, 'Frank', 40, 'Finance'),\n",
    "    (6, 'Grace', 29, 'Engineering'),\n",
    "    (7, 'Hannah', 35, 'Marketing'),\n",
    "    (8, 'Ivan', 38, 'Sales'),\n",
    "    (9, 'Jack', 45, 'HR')  # Duplicate ID to cause an error\n",
    "]\n",
    "insert_multiple_employees_transactions(employees)"
   ]
  },
  {
   "cell_type": "code",
   "execution_count": 31,
   "metadata": {},
   "outputs": [
    {
     "name": "stdout",
     "output_type": "stream",
     "text": [
      "(1, 'Adeel', 28, 'Marketing')\n",
      "(2, 'Ali', 30, 'Sales')\n",
      "(3, 'Aqib', 25, 'Sales')\n",
      "(4, 'Khalid', 35, 'Sales')\n",
      "(5, 'Frank', 40, 'Finance')\n",
      "(6, 'Grace', 29, 'Engineering')\n",
      "(7, 'Hannah', 35, 'Marketing')\n",
      "(8, 'Ivan', 38, 'Sales')\n",
      "(9, 'Jack', 45, 'HR')\n"
     ]
    }
   ],
   "source": [
    "fetch_all_records()"
   ]
  },
  {
   "cell_type": "markdown",
   "metadata": {},
   "source": [
    "2. Write a Python function to update the age of multiple employees in a single transaction. Ensure that if any update fails, none of the updates are committed."
   ]
  },
  {
   "cell_type": "code",
   "execution_count": 33,
   "metadata": {},
   "outputs": [
    {
     "name": "stdout",
     "output_type": "stream",
     "text": [
      "Employees ages updated successfully\n",
      "(1, 'Adeel', 29, 'Marketing')\n",
      "(2, 'Ali', 31, 'Sales')\n",
      "(3, 'Aqib', 26, 'Sales')\n",
      "(4, 'Khalid', 36, 'Sales')\n",
      "(5, 'Frank', 41, 'Finance')\n",
      "(6, 'Grace', 39, 'Engineering')\n",
      "(7, 'Hannah', 35, 'Marketing')\n",
      "(8, 'Ivan', 38, 'Sales')\n",
      "(9, 'Jack', 45, 'HR')\n"
     ]
    }
   ],
   "source": [
    "def update_employee_ages(new_ages):\n",
    "    conn = sqlite3.connect(\"test.db\")\n",
    "    cursor = conn.cursor()\n",
    "    try:\n",
    "        cursor.executemany(f'''\n",
    "        UPDATE Employees\n",
    "        SET age = ?\n",
    "        WHERE id = ?\n",
    "        ''', new_ages)\n",
    "        conn.commit()\n",
    "        print(\"Employees ages updated successfully\")\n",
    "    except Exception as e:\n",
    "        print(\"Error occured, Transaction rolled back\")\n",
    "        conn.rollback()\n",
    "        print(e)\n",
    "    finally:\n",
    "        conn.close()\n",
    "new_employees_ages = [\n",
    "    (29, 1),\n",
    "    (31, 2),\n",
    "    (26, 3),\n",
    "    (36, 4),\n",
    "    (41, 5),\n",
    "    (39, 6)\n",
    "]\n",
    "update_employee_ages(new_employees_ages)\n",
    "fetch_all_records()"
   ]
  },
  {
   "cell_type": "markdown",
   "metadata": {},
   "source": [
    "### Assignment 8: Creating Relationships\n",
    "\n",
    "1. Create a new table named `departments` with columns `id` (integer) and `name` (text).\n"
   ]
  },
  {
   "cell_type": "code",
   "execution_count": 35,
   "metadata": {},
   "outputs": [
    {
     "name": "stdout",
     "output_type": "stream",
     "text": [
      "Table 'departments' created successfully\n"
     ]
    }
   ],
   "source": [
    "def create_departments():\n",
    "    conn = sqlite3.connect(\"test.db\")\n",
    "    cursor = conn.cursor()\n",
    "    cursor.execute('''\n",
    "    CREATE TABLE IF NOT EXISTS departments(\n",
    "    id INTEGER PRIMARY KEY,\n",
    "    name TEXT NOT NULL\n",
    "    )\n",
    "    ''')\n",
    "    conn.commit()\n",
    "    conn.close()\n",
    "    print(\"Table 'departments' created successfully\")\n",
    "create_departments()"
   ]
  },
  {
   "cell_type": "markdown",
   "metadata": {},
   "source": [
    "2. Modify the `employees` table to include a foreign key referencing the `id` column in the `departments` table."
   ]
  },
  {
   "cell_type": "code",
   "execution_count": 40,
   "metadata": {},
   "outputs": [
    {
     "name": "stdout",
     "output_type": "stream",
     "text": [
      "Table 'employees' modified successfully\n"
     ]
    }
   ],
   "source": [
    "def add_department_foreign_key():\n",
    "    conn = sqlite3.connect(\"test.db\")\n",
    "    cursor = conn.cursor()\n",
    "    cursor.execute('''\n",
    "    PRAGMA foregin_keys=off;''')\n",
    "    cursor.execute(\"BEGIN TRANSACTION;\")\n",
    "    cursor.execute(\"ALTER TABLE employees RENAME TO old_employees;\")\n",
    "    cursor.execute(f'''\n",
    "    CREATE TABLE employees(\n",
    "    id INTEGER PRIMARY KEY,\n",
    "    name TEXT NOT NULL,\n",
    "    age INTEGER,\n",
    "    department TEXT,\n",
    "    department_id INTEGER,\n",
    "    FOREIGN KEY(department_id) REFERENCES departments(id)\n",
    "    );''')\n",
    "    cursor.execute('''\n",
    "    INSERT INTO employees(id, name, age, department)\n",
    "    SELECT id, name, age, department\n",
    "    FROM old_employees;\n",
    "    ''')\n",
    "    cursor.execute('DROP TABLE old_employees;')\n",
    "    cursor.execute('COMMIT;')\n",
    "    cursor.execute('PRAGMA foregin_keys=on;')\n",
    "    conn.commit()\n",
    "    conn.close()\n",
    "    print(\"Table 'employees' modified successfully\")\n",
    "add_department_foreign_key()"
   ]
  },
  {
   "cell_type": "markdown",
   "metadata": {},
   "source": [
    "3. Write a Python function to insert data into both the `departments` and `employees` tables, ensuring referential integrity.\n"
   ]
  },
  {
   "cell_type": "code",
   "execution_count": 46,
   "metadata": {},
   "outputs": [
    {
     "name": "stdout",
     "output_type": "stream",
     "text": [
      "Department and employee inserted successfully\n"
     ]
    }
   ],
   "source": [
    "def insert_department_and_employee(department_id, department_name, employee_id, name, age, department):\n",
    "    conn = sqlite3.connect(\"test.db\")\n",
    "    cursor = conn.cursor()\n",
    "    try:\n",
    "        cursor.execute(f'''\n",
    "        INSERT INTO departments(id, name)\n",
    "        VALUES (?,?)\n",
    "        ''', (department_id, department_name))\n",
    "        cursor.execute(f'''\n",
    "        INSERT INTO employees(id, name, age, department, department_id)\n",
    "        VALUES (?, ?, ?, ?, ?)\n",
    "        ''', (employee_id, name, age, department, department_id))\n",
    "        conn.commit()\n",
    "        print(f\"Department and employee inserted successfully\")\n",
    "    except Exception as e:\n",
    "        conn.rollback()\n",
    "        print(\"Error occured, Connection rolled back\")\n",
    "        print(e)\n",
    "    finally:\n",
    "        conn.close()\n",
    "\n",
    "insert_department_and_employee(1, 'Finance', 10, 'Zara', 28, 'Finance')"
   ]
  },
  {
   "cell_type": "code",
   "execution_count": 47,
   "metadata": {},
   "outputs": [
    {
     "name": "stdout",
     "output_type": "stream",
     "text": [
      "(1, 'Adeel', 29, 'Marketing', None)\n",
      "(2, 'Ali', 31, 'Sales', None)\n",
      "(3, 'Aqib', 26, 'Sales', None)\n",
      "(4, 'Khalid', 36, 'Sales', None)\n",
      "(5, 'Frank', 41, 'Finance', None)\n",
      "(6, 'Grace', 39, 'Engineering', None)\n",
      "(7, 'Hannah', 35, 'Marketing', None)\n",
      "(8, 'Ivan', 38, 'Sales', None)\n",
      "(9, 'Jack', 45, 'HR', None)\n",
      "(10, 'Zara', 28, 'Finance', 1)\n"
     ]
    }
   ],
   "source": [
    "fetch_all_records()"
   ]
  },
  {
   "cell_type": "markdown",
   "metadata": {},
   "source": [
    "### Assignment 9: Indexing and Optimization\n",
    "\n",
    "1. Create an index on the `name` column of the `employees` table."
   ]
  },
  {
   "cell_type": "code",
   "execution_count": 49,
   "metadata": {},
   "outputs": [
    {
     "name": "stdout",
     "output_type": "stream",
     "text": [
      "Index on employees name is created successfully\n"
     ]
    }
   ],
   "source": [
    "def create_index_on_name():\n",
    "    conn = sqlite3.connect(\"test.db\")\n",
    "    cursor = conn.cursor()\n",
    "    cursor.execute(f'''\n",
    "    CREATE INDEX index_name on employees(name);\n",
    "    ''')\n",
    "    conn.commit()\n",
    "    conn.close()\n",
    "    print(\"Index on employees name is created successfully\")\n",
    "create_index_on_name()"
   ]
  },
  {
   "cell_type": "markdown",
   "metadata": {},
   "source": [
    "2. Write a Python function to fetch and display all employees whose names start with a specific letter. Compare the performance with and without the index."
   ]
  },
  {
   "cell_type": "code",
   "execution_count": 51,
   "metadata": {},
   "outputs": [
    {
     "name": "stdout",
     "output_type": "stream",
     "text": [
      "Time Taken: 0.0006170272827148438 seconds\n",
      "(1, 'Adeel', 29, 'Marketing', None)\n",
      "(2, 'Ali', 31, 'Sales', None)\n",
      "(3, 'Aqib', 26, 'Sales', None)\n"
     ]
    }
   ],
   "source": [
    "import time\n",
    "def fetch_employees_name_starts_with_letter(letter):\n",
    "    conn = sqlite3.connect(\"test.db\")\n",
    "    cursor = conn.cursor()\n",
    "    start_time = time.time()\n",
    "    cursor.execute(\"SELECT * FROM employees WHERE name LIKE ?\", (letter + '%',))\n",
    "    records = cursor.fetchall()\n",
    "    end_time = time.time()\n",
    "    print(\"Time Taken: {} seconds\".format(end_time - start_time))\n",
    "    for record in records:\n",
    "        print(record)\n",
    "fetch_employees_name_starts_with_letter(\"A\")\n",
    "\n"
   ]
  },
  {
   "cell_type": "markdown",
   "metadata": {},
   "source": [
    "### Assignment 10: Backing Up and Restoring Data\n",
    "\n",
    "1. Write a Python function to back up the `test.db` database to a file named `backup.db`."
   ]
  },
  {
   "cell_type": "code",
   "execution_count": 52,
   "metadata": {},
   "outputs": [
    {
     "name": "stdout",
     "output_type": "stream",
     "text": [
      "Data base backed up successfully\n"
     ]
    }
   ],
   "source": [
    "import shutil\n",
    "def databse_backup():\n",
    "    shutil.copy(\"test.db\", \"backup.db\")\n",
    "    print(\"Data base backed up successfully\")\n",
    "databse_backup()"
   ]
  },
  {
   "cell_type": "markdown",
   "metadata": {},
   "source": [
    "2. Write a Python function to restore the `test.db` database from the `backup.db` file."
   ]
  },
  {
   "cell_type": "code",
   "execution_count": 53,
   "metadata": {},
   "outputs": [
    {
     "name": "stdout",
     "output_type": "stream",
     "text": [
      "Database restored successfully\n"
     ]
    }
   ],
   "source": [
    "def restore_db():\n",
    "    shutil.copy(\"backup.db\", \"test.db\")\n",
    "    print(\"Database restored successfully\")\n",
    "restore_db()"
   ]
  }
 ],
 "metadata": {
  "kernelspec": {
   "display_name": "base",
   "language": "python",
   "name": "python3"
  },
  "language_info": {
   "codemirror_mode": {
    "name": "ipython",
    "version": 3
   },
   "file_extension": ".py",
   "mimetype": "text/x-python",
   "name": "python",
   "nbconvert_exporter": "python",
   "pygments_lexer": "ipython3",
   "version": "3.12.3"
  }
 },
 "nbformat": 4,
 "nbformat_minor": 2
}

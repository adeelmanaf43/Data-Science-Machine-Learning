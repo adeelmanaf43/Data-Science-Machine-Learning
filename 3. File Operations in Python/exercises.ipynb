{
 "cells": [
  {
   "cell_type": "markdown",
   "metadata": {},
   "source": [
    "# Module: File Handling Assignments\n",
    "## Lesson: File Handling and Operations\n",
    "### Assignment 1: Reading a File\n",
    "\n",
    "Write a function that reads the contents of a file named `sample.txt` and prints each line."
   ]
  },
  {
   "cell_type": "code",
   "execution_count": 2,
   "metadata": {},
   "outputs": [
    {
     "name": "stdout",
     "output_type": "stream",
     "text": [
      "This is a sample file\n",
      "This file is created for solving exercises.\n",
      "This file is used in first exercise.\n"
     ]
    }
   ],
   "source": [
    "with open('sample.txt', 'r') as file:\n",
    "    for line in file:\n",
    "        print(line.strip())"
   ]
  },
  {
   "cell_type": "markdown",
   "metadata": {},
   "source": [
    "### Assignment 2: Writing to a File\n",
    "\n",
    "Write a function that writes a list of strings to a file named `output.txt`, with each string on a new line."
   ]
  },
  {
   "cell_type": "code",
   "execution_count": 3,
   "metadata": {},
   "outputs": [],
   "source": [
    "lines = ['Hello How are you?\\n', 'My Name is Adeel Manaf\\n', 'I will be one of the best data scientist in the world\\n']\n",
    "with open('output.txt', 'w') as file:\n",
    "    file.writelines(lines)\n",
    "    "
   ]
  },
  {
   "cell_type": "markdown",
   "metadata": {},
   "source": [
    "### Assignment 3: Copying a File\n",
    "\n",
    "Write a function that copies the contents of a file named `source.txt` to a new file named `destination.txt`.\n"
   ]
  },
  {
   "cell_type": "code",
   "execution_count": 4,
   "metadata": {},
   "outputs": [],
   "source": [
    "with open('output.txt') as source_file:\n",
    "    content = source_file.read()\n",
    "with open('destination.txt', 'w') as destination_file:\n",
    "    destination_file.write(content)"
   ]
  },
  {
   "cell_type": "markdown",
   "metadata": {},
   "source": [
    "### Assignment 4: Appending to a File\n",
    "\n",
    "Write a function that appends a given string to the end of a file named `log.txt`."
   ]
  },
  {
   "cell_type": "code",
   "execution_count": 6,
   "metadata": {},
   "outputs": [],
   "source": [
    "with open('log.txt', 'a+') as file:\n",
    "    file.write('\\n2025 will be an important year in this journey')"
   ]
  },
  {
   "cell_type": "markdown",
   "metadata": {},
   "source": [
    "### Assignment 5: Counting Words in a File\n",
    "\n",
    "Write a function that reads the contents of a file named `document.txt` and returns the number of words in the file."
   ]
  },
  {
   "cell_type": "code",
   "execution_count": 9,
   "metadata": {},
   "outputs": [
    {
     "name": "stdout",
     "output_type": "stream",
     "text": [
      "Words: 31\n"
     ]
    }
   ],
   "source": [
    "with open('document.txt', 'r') as file:\n",
    "    lines = file.readlines()\n",
    "    words = sum(len(line.split()) for line in lines)\n",
    "    print(f\"Words: {words}\")\n"
   ]
  },
  {
   "cell_type": "markdown",
   "metadata": {},
   "source": [
    "### Assignment 6: Finding and Replacing Text\n",
    "\n",
    "Write a function that finds and replaces all occurrences of a given word in a file named `data.txt` with another word."
   ]
  },
  {
   "cell_type": "code",
   "execution_count": 10,
   "metadata": {},
   "outputs": [
    {
     "name": "stdout",
     "output_type": "stream",
     "text": [
      "The quick brown fox jumps over the lazy dog. The fox is very clever and fast.  \n",
      "Foxes are known for their cunning nature and agility.\n"
     ]
    }
   ],
   "source": [
    "with open('data.txt', 'r') as text_file:\n",
    "    content = text_file.read()\n",
    "print(content)"
   ]
  },
  {
   "cell_type": "code",
   "execution_count": 11,
   "metadata": {},
   "outputs": [],
   "source": [
    "new_content = content.replace('fox', 'cat')\n",
    "with open('data.txt', 'w') as new_file:\n",
    "    new_file.write(new_content)\n",
    "    "
   ]
  },
  {
   "cell_type": "markdown",
   "metadata": {},
   "source": [
    "### Assignment 7: Reading a File in Reverse\n",
    "\n",
    "Write a function that reads the contents of a file named `reverse.txt` and prints each line in reverse order.\n"
   ]
  },
  {
   "cell_type": "code",
   "execution_count": 13,
   "metadata": {},
   "outputs": [
    {
     "name": "stdout",
     "output_type": "stream",
     "text": [
      "Happiness is found in the little moments of everyday life.\n",
      "Change is the only constant in life.\n",
      "The river flows gently, carving its path through the land.\n",
      "Success comes to those who work hard and never give up.\n",
      "Knowledge is power, but wisdom is applying it.\n",
      "A journey of a thousand miles begins with a single step.\n",
      "The sun rises in the east and sets in the west.\n"
     ]
    }
   ],
   "source": [
    "with open('reverse.txt') as file:\n",
    "    lines = file.readlines()\n",
    "    for i in range(len(lines)-1, -1, -1):\n",
    "        print(lines[i].strip())"
   ]
  },
  {
   "cell_type": "markdown",
   "metadata": {},
   "source": [
    "### Assignment 8: Counting Lines, Words, and Characters\n",
    "\n",
    "Write a function that reads the contents of a file named `stats.txt` and returns the number of lines, words, and characters in the file.\n"
   ]
  },
  {
   "cell_type": "code",
   "execution_count": 15,
   "metadata": {},
   "outputs": [
    {
     "name": "stdout",
     "output_type": "stream",
     "text": [
      "Lines: 7, Words: 68, Characters: 377\n"
     ]
    }
   ],
   "source": [
    "def file_count(file_path):\n",
    "    with open(file_path, 'r') as file:\n",
    "        file_lines = file.readlines()\n",
    "        lines = len(file_lines)\n",
    "        words = sum(len(line.split()) for line in file_lines)\n",
    "        characters = sum(len(line) for line in file_lines)\n",
    "    return lines, words, characters\n",
    "lines, words, characters = file_count(\"stats.txt\")\n",
    "print(f\"Lines: {lines}, Words: {words}, Characters: {characters}\")"
   ]
  },
  {
   "cell_type": "markdown",
   "metadata": {},
   "source": [
    "### Assignment 9: Merging Multiple Files\n",
    "\n",
    "Write a function that merges the contents of multiple files into a single file named `merged.txt`.\n"
   ]
  },
  {
   "cell_type": "code",
   "execution_count": 19,
   "metadata": {},
   "outputs": [],
   "source": [
    "def merge(new_file, file_list):\n",
    "    with open(new_file, 'w') as new_file:\n",
    "        for file in file_list:\n",
    "            with open(file, 'r') as file:\n",
    "                content = file.read()\n",
    "                new_file.write(content+'\\n')\n",
    "merge('myfile.txt', ['file1.txt', 'file.txt', 'file3.txt'])\n",
    "                \n"
   ]
  },
  {
   "cell_type": "markdown",
   "metadata": {},
   "source": [
    "### Assignment 10: Splitting a Large File\n",
    "\n",
    "Write a function that splits a large file named `large.txt` into smaller files of 100 lines each."
   ]
  },
  {
   "cell_type": "code",
   "execution_count": 24,
   "metadata": {},
   "outputs": [
    {
     "data": {
      "text/plain": [
       "4"
      ]
     },
     "execution_count": 24,
     "metadata": {},
     "output_type": "execute_result"
    }
   ],
   "source": [
    "import math\n",
    "math.ceil(379/100)"
   ]
  },
  {
   "cell_type": "code",
   "execution_count": 29,
   "metadata": {},
   "outputs": [],
   "source": [
    "# with open(\"my_sample.txt\", \"w\") as file:\n",
    "#     for i in range(1, 380):\n",
    "#         file.write(f\"Line {i}: This is sample text for line {i}.\\n\")\n",
    "import math\n",
    "def splits(file_path):\n",
    "    with open(file_path, 'r') as file:\n",
    "        lines = file.readlines()\n",
    "        num_of_files = math.ceil(len(lines) / 100)\n",
    "        files = []\n",
    "        for i in range(num_of_files):\n",
    "            files.append('mfile' + str(i+1)+'.txt')\n",
    "        i = 0\n",
    "        j = 100\n",
    "        file_index = 0\n",
    "        while i < len(lines):\n",
    "            with open(files[file_index], 'w') as file:\n",
    "                file.writelines(lines[i:j])\n",
    "                i += 100\n",
    "                j +=100\n",
    "                file_index += 1\n",
    "splits('my_sample.txt')\n",
    "            "
   ]
  },
  {
   "cell_type": "markdown",
   "metadata": {},
   "source": [
    "### Assignment 11: Creating a Log File\n",
    "\n",
    "Write a function that creates a log file named `activity.log` and writes log messages with timestamps."
   ]
  },
  {
   "cell_type": "code",
   "execution_count": 33,
   "metadata": {},
   "outputs": [],
   "source": [
    "import datetime\n",
    "def log_message(message, file_name = \"acitivity.log\"):\n",
    "    timestamp = datetime.datetime.now().isoformat()\n",
    "    with open(file_name, 'a') as file:\n",
    "        file.write(f'[{timestamp}] {message} \\n')\n",
    "log_message(\"This is a log message\")"
   ]
  },
  {
   "cell_type": "markdown",
   "metadata": {},
   "source": [
    "### Assignment 12: Binary File Operations\n",
    "\n",
    "Write a function that reads a binary file named `image.bin` and writes its contents to another binary file named `copy_image.bin`."
   ]
  },
  {
   "cell_type": "code",
   "execution_count": 36,
   "metadata": {},
   "outputs": [],
   "source": [
    "with open('image.bin', 'rb') as file:\n",
    "    content = file.read()\n",
    "with open('copy_image.bin', 'wb') as write_file:\n",
    "    write_file.write(content)"
   ]
  },
  {
   "cell_type": "markdown",
   "metadata": {},
   "source": [
    "### Assignment 13: CSV File Operations\n",
    "\n",
    "Write a function that reads a CSV file named `data.csv` and prints its contents as a list of dictionaries.\n"
   ]
  },
  {
   "cell_type": "code",
   "execution_count": 45,
   "metadata": {},
   "outputs": [
    {
     "data": {
      "text/plain": [
       "[{'ID': '1', 'Name': 'Alice', 'Age': '23', 'Gender': 'Female', 'Score': '85'},\n",
       " {'ID': '2', 'Name': 'Bob', 'Age': '25', 'Gender': 'Male', 'Score': '78'},\n",
       " {'ID': '3', 'Name': 'Charlie', 'Age': '22', 'Gender': 'Male', 'Score': '92'},\n",
       " {'ID': '4', 'Name': 'Diana', 'Age': '24', 'Gender': 'Female', 'Score': '88'},\n",
       " {'ID': '5', 'Name': 'Ethan', 'Age': '21', 'Gender': 'Male', 'Score': '76'},\n",
       " {'ID': '6', 'Name': 'Fiona', 'Age': '26', 'Gender': 'Female', 'Score': '90'},\n",
       " {'ID': '7', 'Name': 'George', 'Age': '23', 'Gender': 'Male', 'Score': '83'},\n",
       " {'ID': '8', 'Name': 'Hannah', 'Age': '22', 'Gender': 'Female', 'Score': '95'},\n",
       " {'ID': '9', 'Name': 'Isaac', 'Age': '25', 'Gender': 'Male', 'Score': '80'},\n",
       " {'ID': '10', 'Name': 'Jenny', 'Age': '24', 'Gender': 'Female', 'Score': '89'}]"
      ]
     },
     "execution_count": 45,
     "metadata": {},
     "output_type": "execute_result"
    }
   ],
   "source": [
    "import csv\n",
    "def csv_to_dict(file_path):\n",
    "    with open(file_path, 'r') as file:\n",
    "        reader = csv.DictReader(file)\n",
    "        return list(reader)\n",
    "csv_to_dict(\"data.csv\")"
   ]
  },
  {
   "cell_type": "markdown",
   "metadata": {},
   "source": [
    "### Assignment 14: JSON File Operations\n",
    "\n",
    "Write a function that reads a JSON file named `data.json` and prints its contents as a Python dictionary."
   ]
  },
  {
   "cell_type": "code",
   "execution_count": 46,
   "metadata": {},
   "outputs": [
    {
     "data": {
      "text/plain": [
       "{'students': [{'id': 1,\n",
       "   'name': 'Alice',\n",
       "   'age': 23,\n",
       "   'gender': 'Female',\n",
       "   'scores': {'math': 85, 'science': 90, 'english': 88}},\n",
       "  {'id': 2,\n",
       "   'name': 'Bob',\n",
       "   'age': 25,\n",
       "   'gender': 'Male',\n",
       "   'scores': {'math': 78, 'science': 82, 'english': 80}},\n",
       "  {'id': 3,\n",
       "   'name': 'Charlie',\n",
       "   'age': 22,\n",
       "   'gender': 'Male',\n",
       "   'scores': {'math': 92, 'science': 89, 'english': 94}}]}"
      ]
     },
     "execution_count": 46,
     "metadata": {},
     "output_type": "execute_result"
    }
   ],
   "source": [
    "import json\n",
    "def json_to_dic(file_path):\n",
    "    with open(file_path, 'r') as file:\n",
    "        data = json.load(file)\n",
    "        return data\n",
    "json_to_dic(\"data.json\")"
   ]
  },
  {
   "cell_type": "markdown",
   "metadata": {},
   "source": [
    "### Assignment 15: File Permission Handling\n",
    "\n",
    "Write a function that attempts to read a file named `protected.txt` and handles any permission errors gracefully by printing an error message."
   ]
  },
  {
   "cell_type": "code",
   "execution_count": 47,
   "metadata": {},
   "outputs": [],
   "source": [
    "def read_protected_file(filename):\n",
    "    try:\n",
    "        with open(filename, 'r') as file:\n",
    "            print(file.read())\n",
    "    except PermissionError as e:\n",
    "        print(f\"Permission error: {e}\")\n",
    "\n",
    "# Test\n",
    "# read_protected_file('protected.txt')"
   ]
  }
 ],
 "metadata": {
  "kernelspec": {
   "display_name": "base",
   "language": "python",
   "name": "python3"
  },
  "language_info": {
   "codemirror_mode": {
    "name": "ipython",
    "version": 3
   },
   "file_extension": ".py",
   "mimetype": "text/x-python",
   "name": "python",
   "nbconvert_exporter": "python",
   "pygments_lexer": "ipython3",
   "version": "3.12.3"
  }
 },
 "nbformat": 4,
 "nbformat_minor": 2
}

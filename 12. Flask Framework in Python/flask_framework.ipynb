{
 "cells": [
  {
   "cell_type": "markdown",
   "metadata": {},
   "source": [
    "### Introduction to Flask Framework\n",
    "- 1  WSGI -> Web Server Gateway Interface\n",
    "- 2  Jinja 2 Templates\n",
    "\n",
    "##### Flask\n",
    "Web Framework which is created with the Python Programming language\n",
    "\n",
    "\n",
    "##### 1. WSGI\n",
    "\n",
    "A web server is where we deployed our website. For example ASW EC2, AZURE App, etc... \n",
    "Whenever a request comes to web server, this webserver needs to communicate with the web app that is deployed on this webserver, and returns the response. In order to communicate with the web app we need to use WSGI (webserver gateway interface) protocol.\n",
    "\n",
    "##### 2. Jinja 2 Template Engine\n",
    "Jinja2 is a web template engine. It combines a web template (any pages in website) with a data source (SQL DB, Csv sheet, Ml model, Mongodb). If we combine a data source with web template to create dynamic web pages.\n"
   ]
  },
  {
   "cell_type": "code",
   "execution_count": 1,
   "metadata": {},
   "outputs": [
    {
     "name": "stdout",
     "output_type": "stream",
     "text": [
      "Hello\n"
     ]
    }
   ],
   "source": [
    "print(\"Hello\")"
   ]
  },
  {
   "cell_type": "code",
   "execution_count": null,
   "metadata": {},
   "outputs": [],
   "source": []
  }
 ],
 "metadata": {
  "kernelspec": {
   "display_name": "base",
   "language": "python",
   "name": "python3"
  },
  "language_info": {
   "codemirror_mode": {
    "name": "ipython",
    "version": 3
   },
   "file_extension": ".py",
   "mimetype": "text/x-python",
   "name": "python",
   "nbconvert_exporter": "python",
   "pygments_lexer": "ipython3",
   "version": "3.12.3"
  }
 },
 "nbformat": 4,
 "nbformat_minor": 2
}
